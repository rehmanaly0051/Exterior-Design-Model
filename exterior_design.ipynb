{
  "nbformat": 4,
  "nbformat_minor": 0,
  "metadata": {
    "colab": {
      "provenance": [],
      "gpuType": "T4",
      "authorship_tag": "ABX9TyNeDU0DEC/eZHOIRD9OmKPE",
      "include_colab_link": true
    },
    "kernelspec": {
      "name": "python3",
      "display_name": "Python 3"
    },
    "language_info": {
      "name": "python"
    },
    "accelerator": "GPU",
    "widgets": {
      "application/vnd.jupyter.widget-state+json": {
        "785432a7ff4c46ab864de1fd85ad61e2": {
          "model_module": "@jupyter-widgets/controls",
          "model_name": "HBoxModel",
          "model_module_version": "1.5.0",
          "state": {
            "_dom_classes": [],
            "_model_module": "@jupyter-widgets/controls",
            "_model_module_version": "1.5.0",
            "_model_name": "HBoxModel",
            "_view_count": null,
            "_view_module": "@jupyter-widgets/controls",
            "_view_module_version": "1.5.0",
            "_view_name": "HBoxView",
            "box_style": "",
            "children": [
              "IPY_MODEL_f1ba88a35eae4aa5a81f5d0082614bbb",
              "IPY_MODEL_a220fce3c59d44daaf1dfca63f1f90b4",
              "IPY_MODEL_df62b98c5d964a7dbdd48e337763c2de"
            ],
            "layout": "IPY_MODEL_fbbc92f4dfe7470f979a379463f8aa6d"
          }
        },
        "f1ba88a35eae4aa5a81f5d0082614bbb": {
          "model_module": "@jupyter-widgets/controls",
          "model_name": "HTMLModel",
          "model_module_version": "1.5.0",
          "state": {
            "_dom_classes": [],
            "_model_module": "@jupyter-widgets/controls",
            "_model_module_version": "1.5.0",
            "_model_name": "HTMLModel",
            "_view_count": null,
            "_view_module": "@jupyter-widgets/controls",
            "_view_module_version": "1.5.0",
            "_view_name": "HTMLView",
            "description": "",
            "description_tooltip": null,
            "layout": "IPY_MODEL_f4495d2caf264201882818b5317ad146",
            "placeholder": "​",
            "style": "IPY_MODEL_b514a47810994efdb42afacc7f601362",
            "value": "Loading pipeline components...: 100%"
          }
        },
        "a220fce3c59d44daaf1dfca63f1f90b4": {
          "model_module": "@jupyter-widgets/controls",
          "model_name": "FloatProgressModel",
          "model_module_version": "1.5.0",
          "state": {
            "_dom_classes": [],
            "_model_module": "@jupyter-widgets/controls",
            "_model_module_version": "1.5.0",
            "_model_name": "FloatProgressModel",
            "_view_count": null,
            "_view_module": "@jupyter-widgets/controls",
            "_view_module_version": "1.5.0",
            "_view_name": "ProgressView",
            "bar_style": "success",
            "description": "",
            "description_tooltip": null,
            "layout": "IPY_MODEL_dbb487d747574c66b4e50fe33a4d22af",
            "max": 6,
            "min": 0,
            "orientation": "horizontal",
            "style": "IPY_MODEL_2b57b2907ae44c2f9e51339c6d0316d3",
            "value": 6
          }
        },
        "df62b98c5d964a7dbdd48e337763c2de": {
          "model_module": "@jupyter-widgets/controls",
          "model_name": "HTMLModel",
          "model_module_version": "1.5.0",
          "state": {
            "_dom_classes": [],
            "_model_module": "@jupyter-widgets/controls",
            "_model_module_version": "1.5.0",
            "_model_name": "HTMLModel",
            "_view_count": null,
            "_view_module": "@jupyter-widgets/controls",
            "_view_module_version": "1.5.0",
            "_view_name": "HTMLView",
            "description": "",
            "description_tooltip": null,
            "layout": "IPY_MODEL_d0c40e09fd454956bccbc0c0fa63a4b4",
            "placeholder": "​",
            "style": "IPY_MODEL_6c7f8483406a44158e698eb9e8633218",
            "value": " 6/6 [00:24&lt;00:00,  5.51s/it]"
          }
        },
        "fbbc92f4dfe7470f979a379463f8aa6d": {
          "model_module": "@jupyter-widgets/base",
          "model_name": "LayoutModel",
          "model_module_version": "1.2.0",
          "state": {
            "_model_module": "@jupyter-widgets/base",
            "_model_module_version": "1.2.0",
            "_model_name": "LayoutModel",
            "_view_count": null,
            "_view_module": "@jupyter-widgets/base",
            "_view_module_version": "1.2.0",
            "_view_name": "LayoutView",
            "align_content": null,
            "align_items": null,
            "align_self": null,
            "border": null,
            "bottom": null,
            "display": null,
            "flex": null,
            "flex_flow": null,
            "grid_area": null,
            "grid_auto_columns": null,
            "grid_auto_flow": null,
            "grid_auto_rows": null,
            "grid_column": null,
            "grid_gap": null,
            "grid_row": null,
            "grid_template_areas": null,
            "grid_template_columns": null,
            "grid_template_rows": null,
            "height": null,
            "justify_content": null,
            "justify_items": null,
            "left": null,
            "margin": null,
            "max_height": null,
            "max_width": null,
            "min_height": null,
            "min_width": null,
            "object_fit": null,
            "object_position": null,
            "order": null,
            "overflow": null,
            "overflow_x": null,
            "overflow_y": null,
            "padding": null,
            "right": null,
            "top": null,
            "visibility": null,
            "width": null
          }
        },
        "f4495d2caf264201882818b5317ad146": {
          "model_module": "@jupyter-widgets/base",
          "model_name": "LayoutModel",
          "model_module_version": "1.2.0",
          "state": {
            "_model_module": "@jupyter-widgets/base",
            "_model_module_version": "1.2.0",
            "_model_name": "LayoutModel",
            "_view_count": null,
            "_view_module": "@jupyter-widgets/base",
            "_view_module_version": "1.2.0",
            "_view_name": "LayoutView",
            "align_content": null,
            "align_items": null,
            "align_self": null,
            "border": null,
            "bottom": null,
            "display": null,
            "flex": null,
            "flex_flow": null,
            "grid_area": null,
            "grid_auto_columns": null,
            "grid_auto_flow": null,
            "grid_auto_rows": null,
            "grid_column": null,
            "grid_gap": null,
            "grid_row": null,
            "grid_template_areas": null,
            "grid_template_columns": null,
            "grid_template_rows": null,
            "height": null,
            "justify_content": null,
            "justify_items": null,
            "left": null,
            "margin": null,
            "max_height": null,
            "max_width": null,
            "min_height": null,
            "min_width": null,
            "object_fit": null,
            "object_position": null,
            "order": null,
            "overflow": null,
            "overflow_x": null,
            "overflow_y": null,
            "padding": null,
            "right": null,
            "top": null,
            "visibility": null,
            "width": null
          }
        },
        "b514a47810994efdb42afacc7f601362": {
          "model_module": "@jupyter-widgets/controls",
          "model_name": "DescriptionStyleModel",
          "model_module_version": "1.5.0",
          "state": {
            "_model_module": "@jupyter-widgets/controls",
            "_model_module_version": "1.5.0",
            "_model_name": "DescriptionStyleModel",
            "_view_count": null,
            "_view_module": "@jupyter-widgets/base",
            "_view_module_version": "1.2.0",
            "_view_name": "StyleView",
            "description_width": ""
          }
        },
        "dbb487d747574c66b4e50fe33a4d22af": {
          "model_module": "@jupyter-widgets/base",
          "model_name": "LayoutModel",
          "model_module_version": "1.2.0",
          "state": {
            "_model_module": "@jupyter-widgets/base",
            "_model_module_version": "1.2.0",
            "_model_name": "LayoutModel",
            "_view_count": null,
            "_view_module": "@jupyter-widgets/base",
            "_view_module_version": "1.2.0",
            "_view_name": "LayoutView",
            "align_content": null,
            "align_items": null,
            "align_self": null,
            "border": null,
            "bottom": null,
            "display": null,
            "flex": null,
            "flex_flow": null,
            "grid_area": null,
            "grid_auto_columns": null,
            "grid_auto_flow": null,
            "grid_auto_rows": null,
            "grid_column": null,
            "grid_gap": null,
            "grid_row": null,
            "grid_template_areas": null,
            "grid_template_columns": null,
            "grid_template_rows": null,
            "height": null,
            "justify_content": null,
            "justify_items": null,
            "left": null,
            "margin": null,
            "max_height": null,
            "max_width": null,
            "min_height": null,
            "min_width": null,
            "object_fit": null,
            "object_position": null,
            "order": null,
            "overflow": null,
            "overflow_x": null,
            "overflow_y": null,
            "padding": null,
            "right": null,
            "top": null,
            "visibility": null,
            "width": null
          }
        },
        "2b57b2907ae44c2f9e51339c6d0316d3": {
          "model_module": "@jupyter-widgets/controls",
          "model_name": "ProgressStyleModel",
          "model_module_version": "1.5.0",
          "state": {
            "_model_module": "@jupyter-widgets/controls",
            "_model_module_version": "1.5.0",
            "_model_name": "ProgressStyleModel",
            "_view_count": null,
            "_view_module": "@jupyter-widgets/base",
            "_view_module_version": "1.2.0",
            "_view_name": "StyleView",
            "bar_color": null,
            "description_width": ""
          }
        },
        "d0c40e09fd454956bccbc0c0fa63a4b4": {
          "model_module": "@jupyter-widgets/base",
          "model_name": "LayoutModel",
          "model_module_version": "1.2.0",
          "state": {
            "_model_module": "@jupyter-widgets/base",
            "_model_module_version": "1.2.0",
            "_model_name": "LayoutModel",
            "_view_count": null,
            "_view_module": "@jupyter-widgets/base",
            "_view_module_version": "1.2.0",
            "_view_name": "LayoutView",
            "align_content": null,
            "align_items": null,
            "align_self": null,
            "border": null,
            "bottom": null,
            "display": null,
            "flex": null,
            "flex_flow": null,
            "grid_area": null,
            "grid_auto_columns": null,
            "grid_auto_flow": null,
            "grid_auto_rows": null,
            "grid_column": null,
            "grid_gap": null,
            "grid_row": null,
            "grid_template_areas": null,
            "grid_template_columns": null,
            "grid_template_rows": null,
            "height": null,
            "justify_content": null,
            "justify_items": null,
            "left": null,
            "margin": null,
            "max_height": null,
            "max_width": null,
            "min_height": null,
            "min_width": null,
            "object_fit": null,
            "object_position": null,
            "order": null,
            "overflow": null,
            "overflow_x": null,
            "overflow_y": null,
            "padding": null,
            "right": null,
            "top": null,
            "visibility": null,
            "width": null
          }
        },
        "6c7f8483406a44158e698eb9e8633218": {
          "model_module": "@jupyter-widgets/controls",
          "model_name": "DescriptionStyleModel",
          "model_module_version": "1.5.0",
          "state": {
            "_model_module": "@jupyter-widgets/controls",
            "_model_module_version": "1.5.0",
            "_model_name": "DescriptionStyleModel",
            "_view_count": null,
            "_view_module": "@jupyter-widgets/base",
            "_view_module_version": "1.2.0",
            "_view_name": "StyleView",
            "description_width": ""
          }
        }
      }
    }
  },
  "cells": [
    {
      "cell_type": "markdown",
      "metadata": {
        "id": "view-in-github",
        "colab_type": "text"
      },
      "source": [
        "<a href=\"https://colab.research.google.com/github/rehmanaly0051/Exterior-Design-Model/blob/main/exterior_design.ipynb\" target=\"_parent\"><img src=\"https://colab.research.google.com/assets/colab-badge.svg\" alt=\"Open In Colab\"/></a>"
      ]
    },
    {
      "cell_type": "code",
      "execution_count": null,
      "metadata": {
        "colab": {
          "base_uri": "https://localhost:8080/"
        },
        "id": "A7v7jSzEfqFy",
        "outputId": "602d7787-ae17-4ed9-f7c8-96b816da23e5"
      },
      "outputs": [
        {
          "output_type": "stream",
          "name": "stdout",
          "text": [
            "Mounted at /content/drive/\n"
          ]
        }
      ],
      "source": [
        "from google.colab import drive\n",
        "drive.mount('/content/drive/')"
      ]
    },
    {
      "cell_type": "code",
      "source": [
        "import torch\n",
        "torch.__version__"
      ],
      "metadata": {
        "colab": {
          "base_uri": "https://localhost:8080/",
          "height": 36
        },
        "id": "CRQxcegfgvQr",
        "outputId": "b0a6c335-72de-4cf6-e824-548347cd625c"
      },
      "execution_count": null,
      "outputs": [
        {
          "output_type": "execute_result",
          "data": {
            "text/plain": [
              "'2.6.0+cu124'"
            ],
            "application/vnd.google.colaboratory.intrinsic+json": {
              "type": "string"
            }
          },
          "metadata": {},
          "execution_count": 1
        }
      ]
    },
    {
      "cell_type": "code",
      "source": [
        "import torch\n",
        "\n",
        "print(torch.cuda.is_available())\n",
        "if torch.cuda.is_available():\n",
        "  print(torch.cuda.get_device_name(0))\n",
        "else:\n",
        "  print('NotAvailable')"
      ],
      "metadata": {
        "colab": {
          "base_uri": "https://localhost:8080/"
        },
        "id": "1dt21ktylZAU",
        "outputId": "83ddb941-77a8-4ed1-d1bb-4f3c10a272a2"
      },
      "execution_count": null,
      "outputs": [
        {
          "output_type": "stream",
          "name": "stdout",
          "text": [
            "True\n",
            "Tesla T4\n"
          ]
        }
      ]
    },
    {
      "cell_type": "code",
      "source": [
        "import torch\n",
        "print(torch.version.cuda)"
      ],
      "metadata": {
        "colab": {
          "base_uri": "https://localhost:8080/"
        },
        "id": "P74cOtitl5I-",
        "outputId": "ab1f2207-46d9-4fa1-a601-3e51b65d468d"
      },
      "execution_count": null,
      "outputs": [
        {
          "output_type": "stream",
          "name": "stdout",
          "text": [
            "12.4\n"
          ]
        }
      ]
    },
    {
      "cell_type": "code",
      "source": [
        "#!pip install -U xformers --index-url https://download.pytorch.org/whl/cu124"
      ],
      "metadata": {
        "id": "tvjR-zKyl_aT"
      },
      "execution_count": null,
      "outputs": []
    },
    {
      "cell_type": "code",
      "source": [
        "%cd \"/content/drive/MyDrive/Exterior Design\""
      ],
      "metadata": {
        "colab": {
          "base_uri": "https://localhost:8080/"
        },
        "id": "tX_wTIf7iVRT",
        "outputId": "039cdf55-e99c-47c7-d4d1-07fd83585d90"
      },
      "execution_count": null,
      "outputs": [
        {
          "output_type": "stream",
          "name": "stdout",
          "text": [
            "/content/drive/MyDrive/Exterior Design\n"
          ]
        }
      ]
    },
    {
      "cell_type": "code",
      "source": [
        "import os\n",
        "print(\"Working dir:\", os.getcwd())\n",
        "print(\"Exists?\", os.path.exists(floor_plan_path))"
      ],
      "metadata": {
        "colab": {
          "base_uri": "https://localhost:8080/"
        },
        "id": "4yRJAO3XqqLV",
        "outputId": "48543480-828f-4138-964e-e24d7884fac6"
      },
      "execution_count": null,
      "outputs": [
        {
          "output_type": "stream",
          "name": "stdout",
          "text": [
            "Working dir: /content/drive/MyDrive/Exterior Design\n",
            "Exists? True\n"
          ]
        }
      ]
    },
    {
      "cell_type": "code",
      "source": [
        "import torch\n",
        "from diffusers import StableDiffusionControlNetPipeline, ControlNetModel, UniPCMultistepScheduler\n",
        "import numpy as np\n",
        "from PIL import Image\n",
        "import cv2\n",
        "import os\n",
        "\n",
        "def preprocess_floor_plan(floor_plan_path, output_size=(512, 512)):\n",
        "    \"\"\"Process floor plan for better edge detection\"\"\"\n",
        "    # Load image\n",
        "    image = cv2.imread(floor_plan_path)\n",
        "    if image is None:\n",
        "        raise ValueError(f\"Could not load image from {floor_plan_path}\")\n",
        "    image = cv2.cvtColor(image, cv2.COLOR_BGR2RGB)\n",
        "\n",
        "    # Resize while maintaining aspect ratio\n",
        "    h, w = image.shape[:2]\n",
        "    ratio = min(output_size[0] / w, output_size[1] / h)\n",
        "    new_size = (int(w * ratio), int(h * ratio))\n",
        "    resized = cv2.resize(image, new_size)\n",
        "\n",
        "    # Create white canvas of target size\n",
        "    canvas = np.ones((output_size[1], output_size[0], 3), dtype=np.uint8) * 255\n",
        "\n",
        "    # Place the resized image on the canvas\n",
        "    offset_x = (output_size[0] - new_size[0]) // 2\n",
        "    offset_y = (output_size[1] - new_size[1]) // 2\n",
        "    canvas[offset_y:offset_y+new_size[1], offset_x:offset_x+new_size[0]] = resized\n",
        "\n",
        "    # Convert to grayscale for edge detection\n",
        "    gray = cv2.cvtColor(canvas, cv2.COLOR_RGB2GRAY)\n",
        "\n",
        "    # Adjust threshold parameters for better edge detection\n",
        "    # These parameters work well for floor plans which typically have clear lines\n",
        "    edges = cv2.Canny(gray, 100, 200)\n",
        "\n",
        "    # Dilate edges to make them more prominent\n",
        "    kernel = np.ones((2, 2), np.uint8)\n",
        "    dilated_edges = cv2.dilate(edges, kernel, iterations=1)\n",
        "\n",
        "    # Convert back to RGB for ControlNet\n",
        "    edge_image = cv2.cvtColor(dilated_edges, cv2.COLOR_GRAY2RGB)\n",
        "\n",
        "    # Save the processed floor plan for debugging/reference\n",
        "    Image.fromarray(edge_image).save(\"processed_floor_plan.png\")\n",
        "\n",
        "    return Image.fromarray(edge_image)\n",
        "\n",
        "def generate_exterior_design(\n",
        "    floor_plan_path,\n",
        "    output_dir=\"exterior_designs\",\n",
        "    architectural_style=\"modern\",\n",
        "    view_type=\"front\",\n",
        "    resolution=(768, 768),\n",
        "    num_samples=1\n",
        "):\n",
        "\n",
        "    # Create output directory\n",
        "    os.makedirs(output_dir, exist_ok=True)\n",
        "\n",
        "    # Load ControlNet model\n",
        "    controlnet = ControlNetModel.from_pretrained(\n",
        "        \"lllyasviel/sd-controlnet-canny\",\n",
        "        torch_dtype=torch.float16\n",
        "    )\n",
        "\n",
        "    # Create pipeline with a model optimized for architectural images\n",
        "    # We use \"stable-diffusion-2-1\" which has better architectural understanding\n",
        "    pipe = StableDiffusionControlNetPipeline.from_pretrained(\n",
        "        \"stabilityai/stable-diffusion-2-1\",\n",
        "        controlnet=controlnet,\n",
        "        torch_dtype=torch.float16\n",
        "    )\n",
        "\n",
        "    # Use more efficient scheduler\n",
        "    pipe.scheduler = UniPCMultistepScheduler.from_config(pipe.scheduler.config)\n",
        "\n",
        "    # Move to GPU if available\n",
        "    device = \"cuda\" if torch.cuda.is_available() else \"cpu\"\n",
        "    pipe = pipe.to(device)\n",
        "\n",
        "    # Enable memory optimization if on GPU\n",
        "    if device == \"cuda\":\n",
        "        pipe.enable_xformers_memory_efficient_attention()\n",
        "\n",
        "    # Process the floor plan for edge detection\n",
        "    control_image = preprocess_floor_plan(floor_plan_path)\n",
        "\n",
        "    # Build the prompt for the specific style and view\n",
        "    style_descriptors = {\n",
        "        \"modern\": \"modern minimalist architecture, flat roof, large windows, clean lines\",\n",
        "        \"traditional\": \"traditional architecture, sloped roof, symmetrical facade, classic design\",\n",
        "        \"contemporary\": \"contemporary architecture, mixed materials, geometric shapes, innovative design\",\n",
        "        \"mediterranean\": \"mediterranean villa style, terracotta roof tiles, stucco walls, arched features\",\n",
        "        \"farmhouse\": \"modern farmhouse exterior, gabled roof, porch, board and batten siding\",\n",
        "        \"industrial\": \"industrial architecture, exposed metal, large windows, raw materials\"\n",
        "    }\n",
        "\n",
        "    view_descriptors = {\n",
        "        \"front\": \"front elevation of a house\",\n",
        "        \"side\": \"side elevation of a house\",\n",
        "        \"aerial\": \"aerial view of a house\",\n",
        "        \"perspective\": \"3/4 perspective view of a house exterior\"\n",
        "    }\n",
        "\n",
        "    # Get style and view descriptions, with fallbacks to default values\n",
        "    style_desc = style_descriptors.get(architectural_style.lower(), style_descriptors[\"modern\"])\n",
        "    view_desc = view_descriptors.get(view_type.lower(), view_descriptors[\"front\"])\n",
        "\n",
        "    # Build the final prompt\n",
        "    prompt = f\"{view_desc}, {style_desc}, high-quality architectural visualization, exterior design rendering, high detail, photorealistic, professional architectural photography\"\n",
        "\n",
        "    # Negative prompt to avoid common issues\n",
        "    negative_prompt = \"interior, floor plan, blueprint, sketch, drawing, wireframe, cutaway, cross-section, distorted, blurry, deformed, disfigured, poorly drawn, extra limbs, text, watermark, signature, cut off, low quality\"\n",
        "\n",
        "    # Generate images\n",
        "    generated_paths = []\n",
        "    for i in range(num_samples):\n",
        "        print(f\"Generating exterior design {i+1}/{num_samples}...\")\n",
        "        images = pipe(\n",
        "            prompt,\n",
        "            control_image,\n",
        "            negative_prompt=negative_prompt,\n",
        "            num_inference_steps=30,\n",
        "            guidance_scale=7.5,\n",
        "            width=resolution[0],\n",
        "            height=resolution[1]\n",
        "        ).images\n",
        "\n",
        "        # Save the image\n",
        "        for j, image in enumerate(images):\n",
        "            output_path = os.path.join(output_dir, f\"{architectural_style}_{view_type}_{i+1}_{j+1}.png\")\n",
        "            image.save(output_path)\n",
        "            generated_paths.append(output_path)\n",
        "            print(f\"Saved to {output_path}\")\n",
        "\n",
        "    return generated_paths\n",
        "\n",
        "def generate_multiple_exterior_views(\n",
        "    floor_plan_path,\n",
        "    output_dir=\"exterior_designs\",\n",
        "    architectural_style=\"modern\",\n",
        "    resolution=(768, 768)\n",
        "):\n",
        "    \"\"\"Generate multiple views of the exterior design\"\"\"\n",
        "    view_types = [\"front\", \"side\", \"perspective\", \"aerial\"]\n",
        "    all_generated_paths = []\n",
        "\n",
        "    for view_type in view_types:\n",
        "        print(f\"\\nGenerating {view_type} view...\")\n",
        "        generated_paths = generate_exterior_design(\n",
        "            floor_plan_path=floor_plan_path,\n",
        "            output_dir=output_dir,\n",
        "            architectural_style=architectural_style,\n",
        "            view_type=view_type,\n",
        "            resolution=resolution,\n",
        "            num_samples=1  # Generate one sample per view type\n",
        "        )\n",
        "        all_generated_paths.extend(generated_paths)\n",
        "\n",
        "    print(f\"\\nAll exterior designs saved to {output_dir}\")\n",
        "    return all_generated_paths\n",
        "\n",
        "def generate_multiple_styles(\n",
        "    floor_plan_path,\n",
        "    output_dir=\"exterior_designs\",\n",
        "    view_type=\"front\",\n",
        "    resolution=(768, 768)\n",
        "):\n",
        "    \"\"\"Generate exterior designs in multiple architectural styles\"\"\"\n",
        "    styles = [\"modern\", \"traditional\", \"contemporary\", \"mediterranean\", \"farmhouse\", \"industrial\"]\n",
        "    all_generated_paths = []\n",
        "\n",
        "    for style in styles:\n",
        "        print(f\"\\nGenerating {style} style...\")\n",
        "        generated_paths = generate_exterior_design(\n",
        "            floor_plan_path=floor_plan_path,\n",
        "            output_dir=output_dir,\n",
        "            architectural_style=style,\n",
        "            view_type=view_type,\n",
        "            resolution=resolution,\n",
        "            num_samples=1  # Generate one sample per style\n",
        "        )\n",
        "        all_generated_paths.extend(generated_paths)\n",
        "\n",
        "    print(f\"\\nAll exterior designs saved to {output_dir}\")\n",
        "    return all_generated_paths\n",
        "\n",
        "if __name__ == \"__main__\":\n",
        "    # Example usage\n",
        "    floor_plan_path = \"/content/drive/MyDrive/Exterior Design/test_resized.png\"  # Replace with your floor plan path\n",
        "\n",
        "    # Option 1: Generate one specific exterior design\n",
        "    generate_exterior_design(\n",
        "        floor_plan_path=floor_plan_path,\n",
        "        architectural_style=\"modern\",\n",
        "        view_type=\"front\"\n",
        "    )\n",
        "\n",
        "    # Option 2: Generate multiple views of the same style\n",
        "    '''generate_multiple_exterior_views(\n",
        "        floor_plan_path=floor_plan_path,\n",
        "        architectural_style=\"contemporary\"\n",
        "    )'''\n",
        "\n",
        "    # Option 3: Generate the same view in multiple styles\n",
        "    '''generate_multiple_styles(\n",
        "        floor_plan_path=floor_plan_path,\n",
        "        view_type=\"perspective\"\n",
        "    )'''"
      ],
      "metadata": {
        "colab": {
          "base_uri": "https://localhost:8080/",
          "height": 405,
          "referenced_widgets": [
            "785432a7ff4c46ab864de1fd85ad61e2",
            "f1ba88a35eae4aa5a81f5d0082614bbb",
            "a220fce3c59d44daaf1dfca63f1f90b4",
            "df62b98c5d964a7dbdd48e337763c2de",
            "fbbc92f4dfe7470f979a379463f8aa6d",
            "f4495d2caf264201882818b5317ad146",
            "b514a47810994efdb42afacc7f601362",
            "dbb487d747574c66b4e50fe33a4d22af",
            "2b57b2907ae44c2f9e51339c6d0316d3",
            "d0c40e09fd454956bccbc0c0fa63a4b4",
            "6c7f8483406a44158e698eb9e8633218"
          ]
        },
        "id": "yawcexq6iwX-",
        "outputId": "c81718c1-2ea4-4244-e544-f84481c1c193"
      },
      "execution_count": null,
      "outputs": [
        {
          "output_type": "display_data",
          "data": {
            "text/plain": [
              "Loading pipeline components...:   0%|          | 0/6 [00:00<?, ?it/s]"
            ],
            "application/vnd.jupyter.widget-view+json": {
              "version_major": 2,
              "version_minor": 0,
              "model_id": "785432a7ff4c46ab864de1fd85ad61e2"
            }
          },
          "metadata": {}
        },
        {
          "output_type": "error",
          "ename": "UnboundLocalError",
          "evalue": "cannot access local variable 'edge_image' where it is not associated with a value",
          "traceback": [
            "\u001b[0;31m---------------------------------------------------------------------------\u001b[0m",
            "\u001b[0;31mUnboundLocalError\u001b[0m                         Traceback (most recent call last)",
            "\u001b[0;32m<ipython-input-7-61f6b6330e1b>\u001b[0m in \u001b[0;36m<cell line: 0>\u001b[0;34m()\u001b[0m\n\u001b[1;32m    192\u001b[0m \u001b[0;34m\u001b[0m\u001b[0m\n\u001b[1;32m    193\u001b[0m     \u001b[0;31m# Option 1: Generate one specific exterior design\u001b[0m\u001b[0;34m\u001b[0m\u001b[0;34m\u001b[0m\u001b[0m\n\u001b[0;32m--> 194\u001b[0;31m     generate_exterior_design(\n\u001b[0m\u001b[1;32m    195\u001b[0m         \u001b[0mfloor_plan_path\u001b[0m\u001b[0;34m=\u001b[0m\u001b[0mfloor_plan_path\u001b[0m\u001b[0;34m,\u001b[0m\u001b[0;34m\u001b[0m\u001b[0;34m\u001b[0m\u001b[0m\n\u001b[1;32m    196\u001b[0m         \u001b[0marchitectural_style\u001b[0m\u001b[0;34m=\u001b[0m\u001b[0;34m\"modern\"\u001b[0m\u001b[0;34m,\u001b[0m\u001b[0;34m\u001b[0m\u001b[0;34m\u001b[0m\u001b[0m\n",
            "\u001b[0;32m<ipython-input-7-61f6b6330e1b>\u001b[0m in \u001b[0;36mgenerate_exterior_design\u001b[0;34m(floor_plan_path, output_dir, architectural_style, view_type, resolution, num_samples)\u001b[0m\n\u001b[1;32m     85\u001b[0m \u001b[0;34m\u001b[0m\u001b[0m\n\u001b[1;32m     86\u001b[0m     \u001b[0;31m# Process the floor plan for edge detection\u001b[0m\u001b[0;34m\u001b[0m\u001b[0;34m\u001b[0m\u001b[0m\n\u001b[0;32m---> 87\u001b[0;31m     \u001b[0mcontrol_image\u001b[0m \u001b[0;34m=\u001b[0m \u001b[0mpreprocess_floor_plan\u001b[0m\u001b[0;34m(\u001b[0m\u001b[0mfloor_plan_path\u001b[0m\u001b[0;34m)\u001b[0m\u001b[0;34m\u001b[0m\u001b[0;34m\u001b[0m\u001b[0m\n\u001b[0m\u001b[1;32m     88\u001b[0m \u001b[0;34m\u001b[0m\u001b[0m\n\u001b[1;32m     89\u001b[0m     \u001b[0;31m# Build the prompt for the specific style and view\u001b[0m\u001b[0;34m\u001b[0m\u001b[0;34m\u001b[0m\u001b[0m\n",
            "\u001b[0;32m<ipython-input-7-61f6b6330e1b>\u001b[0m in \u001b[0;36mpreprocess_floor_plan\u001b[0;34m(floor_plan_path, output_size)\u001b[0m\n\u001b[1;32m     40\u001b[0m \u001b[0;34m\u001b[0m\u001b[0m\n\u001b[1;32m     41\u001b[0m     \u001b[0;31m# Convert back to RGB for ControlNet\u001b[0m\u001b[0;34m\u001b[0m\u001b[0;34m\u001b[0m\u001b[0m\n\u001b[0;32m---> 42\u001b[0;31m     \u001b[0medge_image\u001b[0m \u001b[0;34m=\u001b[0m \u001b[0mcv2\u001b[0m\u001b[0;34m.\u001b[0m\u001b[0mresize\u001b[0m\u001b[0;34m(\u001b[0m\u001b[0medge_image\u001b[0m\u001b[0;34m,\u001b[0m \u001b[0;34m(\u001b[0m\u001b[0moutput_size\u001b[0m\u001b[0;34m[\u001b[0m\u001b[0;36m0\u001b[0m\u001b[0;34m]\u001b[0m\u001b[0;34m,\u001b[0m \u001b[0moutput_size\u001b[0m\u001b[0;34m[\u001b[0m\u001b[0;36m1\u001b[0m\u001b[0;34m]\u001b[0m\u001b[0;34m)\u001b[0m\u001b[0;34m)\u001b[0m\u001b[0;34m\u001b[0m\u001b[0;34m\u001b[0m\u001b[0m\n\u001b[0m\u001b[1;32m     43\u001b[0m \u001b[0;34m\u001b[0m\u001b[0m\n\u001b[1;32m     44\u001b[0m     \u001b[0;31m# Save the processed floor plan for debugging/reference\u001b[0m\u001b[0;34m\u001b[0m\u001b[0;34m\u001b[0m\u001b[0m\n",
            "\u001b[0;31mUnboundLocalError\u001b[0m: cannot access local variable 'edge_image' where it is not associated with a value"
          ]
        }
      ]
    },
    {
      "cell_type": "code",
      "source": [],
      "metadata": {
        "id": "I-5YtW4Gq81c"
      },
      "execution_count": null,
      "outputs": []
    }
  ]
}